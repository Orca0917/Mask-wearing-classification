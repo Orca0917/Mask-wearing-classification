{
 "cells": [
  {
   "cell_type": "code",
   "execution_count": 8,
   "metadata": {},
   "outputs": [
    {
     "name": "stdout",
     "output_type": "stream",
     "text": [
      "Namespace(augmentation='CustomAugmentation', batch_size=32, criterion='focal', data_dir='/opt/ml/input/data/train/images', dataset='CutMixDataset', epochs=10, log_interval=20, lr=0.0001, lr_decay_step=7, model='EfficientNet_MultiLabel', model_dir='./model/Multi_Training', name='Multi_Train', optimizer='Adam', resize=[380, 380], seed=42, val_ratio=0.2, valid_batch_size=32)\n",
      "Loaded pretrained weights for efficientnet-b4\n",
      "Epoch[0/10](20/412) || training loss 0.297 || training accuracy 44.53% || lr 0.0001\n",
      "Epoch[0/10](40/412) || training loss 0.1344 || training accuracy 71.56% || lr 0.0001\n"
     ]
    }
   ],
   "source": [
    "!python /opt/ml/level1-image-classification-level1-recsys-04/model/MultiTraining/train.py \\\n",
    "    --epochs 10 \\\n",
    "    --dataset 'CutMixDataset' \\\n",
    "    --augmentation 'CustomAugmentation' \\\n",
    "    --batch_size 32 \\\n",
    "    --valid_batch_size 32 \\\n",
    "    --model 'EfficientNet_MultiLabel' \\\n",
    "    --lr '1e-4' \\\n",
    "    --name 'Multi_Train' \\\n",
    "    --model_dir './model/Multi_Training' \\\n",
    "\n"
   ]
  },
  {
   "cell_type": "code",
   "execution_count": 8,
   "metadata": {},
   "outputs": [
    {
     "name": "stdout",
     "output_type": "stream",
     "text": [
      "Loaded pretrained weights for efficientnet-b4\n",
      "Calculating inference results..\n",
      "Inference Done!\n"
     ]
    }
   ],
   "source": [
    "!python /opt/ml/code/baseline/inference.py \\\n",
    "    --batch_size 128 \\\n",
    "    --model 'EfficientNet_MultiLabel' \\\n",
    "    --augmentation 'CustomAugmentation' \\\n",
    "    --model_dir './model/Multi_Training/Multi_Train7' \\\n",
    "    --output_dir './output/Multi_Train'"
   ]
  },
  {
   "cell_type": "code",
   "execution_count": null,
   "metadata": {},
   "outputs": [],
   "source": []
  }
 ],
 "metadata": {
  "interpreter": {
   "hash": "d4d1e4263499bec80672ea0156c357c1ee493ec2b1c70f0acce89fc37c4a6abe"
  },
  "kernelspec": {
   "display_name": "Python 3.8.5 ('base')",
   "language": "python",
   "name": "python3"
  },
  "language_info": {
   "codemirror_mode": {
    "name": "ipython",
    "version": 3
   },
   "file_extension": ".py",
   "mimetype": "text/x-python",
   "name": "python",
   "nbconvert_exporter": "python",
   "pygments_lexer": "ipython3",
   "version": "3.8.5"
  },
  "orig_nbformat": 4
 },
 "nbformat": 4,
 "nbformat_minor": 2
}

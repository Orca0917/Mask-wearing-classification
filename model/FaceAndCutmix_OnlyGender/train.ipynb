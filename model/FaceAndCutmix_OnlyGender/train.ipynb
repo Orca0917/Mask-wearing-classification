{
 "cells": [
  {
   "cell_type": "code",
   "execution_count": null,
   "metadata": {},
   "outputs": [],
   "source": [
    "!python /opt/ml/level1-image-classification-level1-recsys-04/model/FaceAndCutmix_OnlyGender/train.py \\\n",
    "    --epochs 10 \\\n",
    "    --dataset 'MaskSplitByProfileDataset' \\\n",
    "    --augmentation 'CustomAugmentation' \\\n",
    "    --batch_size 32 \\\n",
    "    --valid_batch_size 32 \\\n",
    "    --model 'EfficientNet_MultiLabel' \\\n",
    "    --lr '1e-4' \\\n",
    "    --lr_decay_step '7' \\\n",
    "    --name 'Face_Cutmix_lab_smooth_train_gender' \\\n",
    "    --model_dir './model/'\n"
   ]
  },
  {
   "cell_type": "code",
   "execution_count": null,
   "metadata": {},
   "outputs": [],
   "source": [
    "!python /opt/ml/level1-image-classification-level1-recsys-04/model/FaceAndCutmix_OnlyMASK/inference.py \\\n",
    "    --batch_size 32 \\\n",
    "    --model 'EfficientNet_MultiLabel' \\\n",
    "    --augmentation 'BaseAugmentation' \\\n",
    "    --model_dir './model/Face_Cutmix_ensemble_jincha_choijong' \\\n",
    "    --output_dir './output/Face_Cutmix_ensemble_jincha_choijong'"
   ]
  }
 ],
 "metadata": {
  "interpreter": {
   "hash": "d4d1e4263499bec80672ea0156c357c1ee493ec2b1c70f0acce89fc37c4a6abe"
  },
  "kernelspec": {
   "display_name": "Python 3.8.5 ('base')",
   "language": "python",
   "name": "python3"
  },
  "language_info": {
   "codemirror_mode": {
    "name": "ipython",
    "version": 3
   },
   "file_extension": ".py",
   "mimetype": "text/x-python",
   "name": "python",
   "nbconvert_exporter": "python",
   "pygments_lexer": "ipython3",
   "version": "3.8.5"
  },
  "orig_nbformat": 4
 },
 "nbformat": 4,
 "nbformat_minor": 2
}

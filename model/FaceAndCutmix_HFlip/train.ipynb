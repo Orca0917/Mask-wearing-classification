{
 "cells": [
  {
   "cell_type": "markdown",
   "metadata": {},
   "source": [
    "# ⭐️ 주의\n",
    "\n",
    "## run_name: 모델명 작성 (ex. Face-Cutmix-HorizontalFlip)"
   ]
  },
  {
   "cell_type": "code",
   "execution_count": 2,
   "metadata": {},
   "outputs": [
    {
     "name": "stdout",
     "output_type": "stream",
     "text": [
      "Namespace(augmentation='CustomAugmentation', batch_size=32, criterion='cross_entropy', data_dir='/opt/ml/input/data/train/images', dataset='CutMixDataset', epochs=10, log_interval=20, lr=0.0001, lr_decay_step=5, model='EfficientNet_MultiLabel', model_dir='./model/', name='Face_Cutmix_HFlip', optimizer='Adam', resize=[380, 380], run_name='Face-Cutmix-HorizontalFlip', seed=42, val_ratio=0.2, valid_batch_size=32)\n",
      "Loaded pretrained weights for efficientnet-b4\n",
      "\u001b[34m\u001b[1mwandb\u001b[0m: Currently logged in as: \u001b[33mrecsys_04\u001b[0m (use `wandb login --relogin` to force relogin)\n",
      "\u001b[34m\u001b[1mwandb\u001b[0m: Tracking run with wandb version 0.12.11\n",
      "\u001b[34m\u001b[1mwandb\u001b[0m: Run data is saved locally in \u001b[35m\u001b[1m/opt/ml/level1-image-classification-level1-recsys-04/model/FaceAndCutmix_HFlip/wandb/run-20220303_053612-2o34ygj7\u001b[0m\n",
      "\u001b[34m\u001b[1mwandb\u001b[0m: Run \u001b[1m`wandb offline`\u001b[0m to turn off syncing.\n",
      "\u001b[34m\u001b[1mwandb\u001b[0m: Syncing run \u001b[33mzany-lion-31\u001b[0m\n",
      "\u001b[34m\u001b[1mwandb\u001b[0m: ⭐️ View project at \u001b[34m\u001b[4mhttps://wandb.ai/recsys_04/Image_Classification\u001b[0m\n",
      "\u001b[34m\u001b[1mwandb\u001b[0m: 🚀 View run at \u001b[34m\u001b[4mhttps://wandb.ai/recsys_04/Image_Classification/runs/2o34ygj7\u001b[0m\n",
      "Epoch[0/10](20/411) || training loss 2.781 || training accuracy 19.22% || lr 0.0001\n",
      "Epoch[0/10](40/411) || training loss 2.47 || training accuracy 43.28% || lr 0.0001\n",
      "Epoch[0/10](60/411) || training loss 1.921 || training accuracy 61.25% || lr 0.0001\n"
     ]
    }
   ],
   "source": [
    "!python /opt/ml/level1-image-classification-level1-recsys-04/model/FaceAndCutmix_HFlip/train.py \\\n",
    "    --epochs 10 \\\n",
    "    --dataset 'CutMixDataset' \\\n",
    "    --augmentation 'CustomAugmentation' \\\n",
    "    --batch_size 32 \\\n",
    "    --valid_batch_size 32 \\\n",
    "    --model 'EfficientNet_MultiLabel' \\\n",
    "    --lr '1e-4' \\\n",
    "    --lr_decay_step '5' \\\n",
    "    --name 'Face_Cutmix_HFlip' \\\n",
    "    --model_dir './model/' \\\n",
    "    --run_name 'Face-Cutmix-HorizontalFlip'"
   ]
  },
  {
   "cell_type": "code",
   "execution_count": 12,
   "metadata": {},
   "outputs": [
    {
     "name": "stdout",
     "output_type": "stream",
     "text": [
      "Loaded pretrained weights for efficientnet-b4\n",
      "Calculating inference results..\n",
      "Inference Done!\n"
     ]
    }
   ],
   "source": [
    "!python /opt/ml/level1-image-classification-level1-recsys-04/model/FaceAndCutmix/inference.py \\\n",
    "    --batch_size 32 \\\n",
    "    --model 'EfficientNet_MultiLabel' \\\n",
    "    --augmentation 'BaseAugmentation' \\\n",
    "    --model_dir './model/Face_Cutmix/' \\\n",
    "    --output_dir './output/Face_Cutmix'"
   ]
  },
  {
   "cell_type": "code",
   "execution_count": null,
   "metadata": {},
   "outputs": [],
   "source": []
  }
 ],
 "metadata": {
  "interpreter": {
   "hash": "d4d1e4263499bec80672ea0156c357c1ee493ec2b1c70f0acce89fc37c4a6abe"
  },
  "kernelspec": {
   "display_name": "Python 3.8.5 ('base')",
   "language": "python",
   "name": "python3"
  },
  "language_info": {
   "codemirror_mode": {
    "name": "ipython",
    "version": 3
   },
   "file_extension": ".py",
   "mimetype": "text/x-python",
   "name": "python",
   "nbconvert_exporter": "python",
   "pygments_lexer": "ipython3",
   "version": "3.8.5"
  },
  "orig_nbformat": 4
 },
 "nbformat": 4,
 "nbformat_minor": 2
}

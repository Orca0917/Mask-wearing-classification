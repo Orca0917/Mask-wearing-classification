{
 "cells": [
  {
   "cell_type": "code",
   "execution_count": 12,
   "metadata": {},
   "outputs": [
    {
     "name": "stdout",
     "output_type": "stream",
     "text": [
      "Namespace(augmentation='CustomAugmentation', batch_size=32, criterion='cross_entropy', data_dir='/opt/ml/input/data/train/images', dataset='CutMixDataset', epochs=1, log_interval=20, lr=0.0001, lr_decay_step=5, model='EfficientNet_MultiLabel', model_dir='./model/', name='Test_Wandb', optimizer='Adam', resize=[380, 380], run_name='Face-Cutmix-Test', seed=42, val_ratio=0.2, valid_batch_size=32)\n",
      "Loaded pretrained weights for efficientnet-b4\n",
      "\u001b[34m\u001b[1mwandb\u001b[0m: Currently logged in as: \u001b[33mrecsys_04\u001b[0m (use `wandb login --relogin` to force relogin)\n",
      "\u001b[34m\u001b[1mwandb\u001b[0m: Tracking run with wandb version 0.12.11\n",
      "\u001b[34m\u001b[1mwandb\u001b[0m: Run data is saved locally in \u001b[35m\u001b[1m/opt/ml/level1-image-classification-level1-recsys-04/model/FaceAndCutmix/wandb/run-20220303_050413-1b1c6u86\u001b[0m\n",
      "\u001b[34m\u001b[1mwandb\u001b[0m: Run \u001b[1m`wandb offline`\u001b[0m to turn off syncing.\n",
      "\u001b[34m\u001b[1mwandb\u001b[0m: Syncing run \u001b[33meffortless-plasma-29\u001b[0m\n",
      "\u001b[34m\u001b[1mwandb\u001b[0m: ⭐️ View project at \u001b[34m\u001b[4mhttps://wandb.ai/recsys_04/Image_Classification\u001b[0m\n",
      "\u001b[34m\u001b[1mwandb\u001b[0m: 🚀 View run at \u001b[34m\u001b[4mhttps://wandb.ai/recsys_04/Image_Classification/runs/1b1c6u86\u001b[0m\n",
      "Epoch[0/1](20/411) || training loss 2.782 || training accuracy 22.34% || lr 0.0001\n",
      "Epoch[0/1](40/411) || training loss 2.47 || training accuracy 42.50% || lr 0.0001\n",
      "Epoch[0/1](60/411) || training loss 1.921 || training accuracy 61.25% || lr 0.0001\n",
      "Epoch[0/1](80/411) || training loss 1.383 || training accuracy 66.56% || lr 0.0001\n",
      "Epoch[0/1](100/411) || training loss 0.9786 || training accuracy 78.59% || lr 0.0001\n",
      "Epoch[0/1](120/411) || training loss 0.7747 || training accuracy 80.62% || lr 0.0001\n",
      "Epoch[0/1](140/411) || training loss 0.5795 || training accuracy 86.72% || lr 0.0001\n",
      "Epoch[0/1](160/411) || training loss 0.5024 || training accuracy 86.88% || lr 0.0001\n",
      "Epoch[0/1](180/411) || training loss 0.4468 || training accuracy 87.50% || lr 0.0001\n",
      "Epoch[0/1](200/411) || training loss 0.4599 || training accuracy 86.41% || lr 0.0001\n",
      "Epoch[0/1](220/411) || training loss 0.3815 || training accuracy 88.75% || lr 0.0001\n",
      "Epoch[0/1](240/411) || training loss 0.3307 || training accuracy 90.47% || lr 0.0001\n",
      "Epoch[0/1](260/411) || training loss 0.3233 || training accuracy 90.78% || lr 0.0001\n",
      "Epoch[0/1](280/411) || training loss 0.2845 || training accuracy 91.56% || lr 0.0001\n",
      "Epoch[0/1](300/411) || training loss 0.293 || training accuracy 91.56% || lr 0.0001\n",
      "Epoch[0/1](320/411) || training loss 0.2853 || training accuracy 90.94% || lr 0.0001\n",
      "Epoch[0/1](340/411) || training loss 0.2371 || training accuracy 91.88% || lr 0.0001\n",
      "Epoch[0/1](360/411) || training loss 0.2271 || training accuracy 92.66% || lr 0.0001\n",
      "Epoch[0/1](380/411) || training loss 0.2126 || training accuracy 93.75% || lr 0.0001\n",
      "Epoch[0/1](400/411) || training loss 0.1805 || training accuracy 94.69% || lr 0.0001\n",
      "Calculating validation results...\n",
      "New best model for val accuracy : 86.58%! saving the best model..\n",
      "[Val] acc : 86.58%, loss: 0.37 || best acc : 86.58%, best loss: 0.37\n",
      "\n",
      "correct_cnt: [145 117 132 171 158 131 144 161  98 152 150 100 169 168 171 147 179 151]\n",
      "total_cnt: [146 141 161 192 163 166 146 176 172 156 156 172 173 174 183 150 189 185]\n",
      "[99.32 82.98 81.99 89.06 96.93 78.92 98.63 91.48 56.98 97.44 96.15 58.14\n",
      " 97.69 96.55 93.44 98.   94.71 81.62]\n",
      "\n",
      "\u001b[34m\u001b[1mwandb\u001b[0m: Waiting for W&B process to finish... \u001b[32m(success).\u001b[0m\n",
      "\u001b[34m\u001b[1mwandb\u001b[0m:                                                                                \n",
      "\u001b[34m\u001b[1mwandb\u001b[0m: \n",
      "\u001b[34m\u001b[1mwandb\u001b[0m: Run history:\n",
      "\u001b[34m\u001b[1mwandb\u001b[0m:       Acc/age0 ▁▁\n",
      "\u001b[34m\u001b[1mwandb\u001b[0m:       Acc/age1 ▁▁\n",
      "\u001b[34m\u001b[1mwandb\u001b[0m:       Acc/age2 ▁▁\n",
      "\u001b[34m\u001b[1mwandb\u001b[0m:    Acc/gender0 ▁▁\n",
      "\u001b[34m\u001b[1mwandb\u001b[0m:    Acc/gender1 ▁▁\n",
      "\u001b[34m\u001b[1mwandb\u001b[0m:      Acc/mask0 ▁▁\n",
      "\u001b[34m\u001b[1mwandb\u001b[0m:      Acc/mask1 ▁▁\n",
      "\u001b[34m\u001b[1mwandb\u001b[0m:      Acc/mask2 ▁▁\n",
      "\u001b[34m\u001b[1mwandb\u001b[0m:      Acc/total ▁▁\n",
      "\u001b[34m\u001b[1mwandb\u001b[0m: Train/accuracy ▁\n",
      "\u001b[34m\u001b[1mwandb\u001b[0m:     Train/loss ▁\n",
      "\u001b[34m\u001b[1mwandb\u001b[0m:   Val/accuracy ▁\n",
      "\u001b[34m\u001b[1mwandb\u001b[0m:       Val/loss ▁\n",
      "\u001b[34m\u001b[1mwandb\u001b[0m: \n",
      "\u001b[34m\u001b[1mwandb\u001b[0m: Run summary:\n",
      "\u001b[34m\u001b[1mwandb\u001b[0m:       Acc/age0 96.37\n",
      "\u001b[34m\u001b[1mwandb\u001b[0m:       Acc/age1 93.39\n",
      "\u001b[34m\u001b[1mwandb\u001b[0m:       Acc/age2 75.36\n",
      "\u001b[34m\u001b[1mwandb\u001b[0m:    Acc/gender0 90.9\n",
      "\u001b[34m\u001b[1mwandb\u001b[0m:    Acc/gender1 82.31\n",
      "\u001b[34m\u001b[1mwandb\u001b[0m:      Acc/mask0 88.13\n",
      "\u001b[34m\u001b[1mwandb\u001b[0m:      Acc/mask1 82.31\n",
      "\u001b[34m\u001b[1mwandb\u001b[0m:      Acc/mask2 93.45\n",
      "\u001b[34m\u001b[1mwandb\u001b[0m:      Acc/total 88.1\n",
      "\u001b[34m\u001b[1mwandb\u001b[0m: Train/accuracy 0.94688\n",
      "\u001b[34m\u001b[1mwandb\u001b[0m:     Train/loss 0.18051\n",
      "\u001b[34m\u001b[1mwandb\u001b[0m:   Val/accuracy 0.86583\n",
      "\u001b[34m\u001b[1mwandb\u001b[0m:       Val/loss 0.36616\n",
      "\u001b[34m\u001b[1mwandb\u001b[0m: \n",
      "\u001b[34m\u001b[1mwandb\u001b[0m: Synced \u001b[33meffortless-plasma-29\u001b[0m: \u001b[34m\u001b[4mhttps://wandb.ai/recsys_04/Image_Classification/runs/1b1c6u86\u001b[0m\n",
      "\u001b[34m\u001b[1mwandb\u001b[0m: Synced 6 W&B file(s), 4 media file(s), 144 artifact file(s) and 0 other file(s)\n",
      "\u001b[34m\u001b[1mwandb\u001b[0m: Find logs at: \u001b[35m\u001b[1m./wandb/run-20220303_050413-1b1c6u86/logs\u001b[0m\n"
     ]
    }
   ],
   "source": [
    "!python /opt/ml/level1-image-classification-level1-recsys-04/model/FaceAndCutmix/train.py \\\n",
    "    --epochs 10 \\\n",
    "    --dataset 'CutMixDataset' \\\n",
    "    --augmentation 'CustomAugmentation' \\\n",
    "    --batch_size 32 \\\n",
    "    --valid_batch_size 32 \\\n",
    "    --model 'EfficientNet_MultiLabel' \\\n",
    "    --lr '1e-4' \\\n",
    "    --lr_decay_step '5' \\\n",
    "    --name 'Face_Cutmix' \\\n",
    "    --model_dir './model/' \\\n",
    "    --run_name 'Face-Cutmix'"
   ]
  },
  {
   "cell_type": "code",
   "execution_count": 12,
   "metadata": {},
   "outputs": [
    {
     "name": "stdout",
     "output_type": "stream",
     "text": [
      "Loaded pretrained weights for efficientnet-b4\n",
      "Calculating inference results..\n",
      "Inference Done!\n"
     ]
    }
   ],
   "source": [
    "!python /opt/ml/level1-image-classification-level1-recsys-04/model/FaceAndCutmix/inference.py \\\n",
    "    --batch_size 32 \\\n",
    "    --model 'EfficientNet_MultiLabel' \\\n",
    "    --augmentation 'BaseAugmentation' \\\n",
    "    --model_dir './model/Face_Cutmix/' \\\n",
    "    --output_dir './output/Face_Cutmix'"
   ]
  },
  {
   "cell_type": "code",
   "execution_count": null,
   "metadata": {},
   "outputs": [],
   "source": []
  }
 ],
 "metadata": {
  "interpreter": {
   "hash": "d4d1e4263499bec80672ea0156c357c1ee493ec2b1c70f0acce89fc37c4a6abe"
  },
  "kernelspec": {
   "display_name": "Python 3.8.5 ('base')",
   "language": "python",
   "name": "python3"
  },
  "language_info": {
   "codemirror_mode": {
    "name": "ipython",
    "version": 3
   },
   "file_extension": ".py",
   "mimetype": "text/x-python",
   "name": "python",
   "nbconvert_exporter": "python",
   "pygments_lexer": "ipython3",
   "version": "3.8.5"
  },
  "orig_nbformat": 4
 },
 "nbformat": 4,
 "nbformat_minor": 2
}

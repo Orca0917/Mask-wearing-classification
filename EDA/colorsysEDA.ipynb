{
  "cells": [
    {
      "cell_type": "code",
      "execution_count": 8,
      "metadata": {
        "id": "anSxhF5xmK67"
      },
      "outputs": [],
      "source": [
        "import colorsys\n",
        "import numpy as np\n",
        "import matplotlib as mpl\n",
        "import matplotlib.pyplot as plt\n",
        "import seaborn as sns\n",
        "from copy import deepcopy\n",
        "from torchvision import transforms"
      ]
    },
    {
      "cell_type": "code",
      "execution_count": null,
      "metadata": {
        "colab": {
          "base_uri": "https://localhost:8080/",
          "height": 330
        },
        "id": "hg4-c6WMmDhp",
        "outputId": "a2821f6b-213c-4a50-9637-75aa465a8cf7"
      },
      "outputs": [],
      "source": [
        "image = plt.imread(\"/opt/ml/input/data/train/processed_train_images/000001_1.jpg\")\n",
        "print(image.shape)\n",
        "fig, ax = plt.subplots(constrained_layout = True)\n",
        "#constrained_layout : figsize에 입력한 크기와 입력한 figure의 이미지의 크기를 최대한 맞추는 옵션\n",
        "ax.imshow(image)\n",
        "plt.show()"
      ]
    },
    {
      "cell_type": "code",
      "execution_count": 9,
      "metadata": {
        "colab": {
          "base_uri": "https://localhost:8080/",
          "height": 330
        },
        "id": "hhseRcoyma4R",
        "outputId": "76f033d1-1e8c-4153-8d1f-e1a6f5a0304d"
      },
      "outputs": [
        {
          "name": "stderr",
          "output_type": "stream",
          "text": [
            "/opt/conda/lib/python3.8/site-packages/torchvision/transforms/functional.py:74: UserWarning: The given NumPy array is not writeable, and PyTorch does not support non-writeable tensors. This means you can write to the underlying (supposedly non-writeable) NumPy array using the tensor. You may want to copy the array to protect its data or make it writeable before converting it to a tensor. This type of warning will be suppressed for the rest of this program. (Triggered internally at  /opt/conda/conda-bld/pytorch_1607370172916/work/torch/csrc/utils/tensor_numpy.cpp:141.)\n",
            "  img = torch.from_numpy(pic.transpose((2, 0, 1))).contiguous()\n"
          ]
        },
        {
          "data": {
            "image/png": "[encoded data removed]",
            "text/plain": [
              "<Figure size 576x288 with 3 Axes>"
            ]
          },
          "metadata": {
            "needs_background": "light"
          },
          "output_type": "display_data"
        }
      ],
      "source": [
        "#이미지를 rgb에서 hls 값으로 변환하고 분포를 히스토그램으로 확인\n",
        "\n",
        "#img_hls = np.array([colorsys.rgb_to_hls(*c) for c in (image/255).reshape((384*512, 3))]).T\n",
        "#print(img_hls.shape)\n",
        "transform = transforms.ToTensor()\n",
        "image = transform(image).reshape(3,-1)\n",
        "fig, axs = plt.subplots(ncols=3, figsize=(8, 4), constrained_layout=True)\n",
        "\n",
        "#enumerate는 index를 함께 반환한다. \n",
        "for i, (title, ax) in enumerate(zip([\"r\", \"g\", \"b\"], axs)):\n",
        "    sns.histplot(image[i], kde=True, bins=np.linspace(0, 1, 21), ax=ax)\n",
        "    ax.set_title(title, fontsize=\"xx-large\", pad=8)"
      ]
    },
    {
      "cell_type": "code",
      "execution_count": null,
      "metadata": {
        "colab": {
          "base_uri": "https://localhost:8080/",
          "height": 241
        },
        "id": "815K2yammclV",
        "outputId": "b357adae-4f8f-4163-f199-76c32fd68c21"
      },
      "outputs": [],
      "source": [
        "#주어진 사진에서 HLS의 heatmap 확인\n",
        "\n",
        "fig, axs = plt.subplots(ncols=3, figsize=(8, 3), constrained_layout=True)\n",
        "\n",
        "for i, (title, ax) in enumerate(zip([\"hue\", \"lightness\", \"saturation\"], axs)):\n",
        "    vmax = 1 if i == 0 else 1\n",
        "    im = ax.imshow(image[i].reshape(512, 384), cmap=\"rainbow\", vmin=0, vmax=vmax)\n",
        "    plt.colorbar(im, orientation=\"horizontal\", ax=ax)\n",
        "    ax.set_xticks([])\n",
        "    ax.set_yticks([])\n",
        "    ax.set_title(title, fontsize=\"xx-large\", pad=8)"
      ]
    },
    {
      "cell_type": "code",
      "execution_count": null,
      "metadata": {
        "colab": {
          "base_uri": "https://localhost:8080/",
          "height": 195
        },
        "id": "v1sA27kGm2fO",
        "outputId": "0a759f2f-7fc3-4846-e41a-4d2a132c9427"
      },
      "outputs": [],
      "source": [
        "#내가 HLS 값을 기준으로 선택한 영역을 흰색으로 표시 (나머지 검은색)\n",
        "\n",
        "img_hls_face = deepcopy(image)\n",
        "\n",
        "fig, axs = plt.subplots(ncols=5, figsize=(8, 3), constrained_layout=True)\n",
        "\n",
        "h_ths = [0.1, 0.15, 0.2, 0.3, 0.4]\n",
        "for h_th, ax in zip(h_ths, axs):\n",
        "    chk_face = np.where((image[2] < h_th), 1, 0)\n",
        "    ax.imshow(chk_face.reshape(512, 384), cmap=\"gray\")\n",
        "    ax.set_xticks([])\n",
        "    ax.set_yticks([])\n",
        "    ax.set_title(f\"{h_th}\", fontsize=\"xx-large\", pad=8)"
      ]
    },
    {
      "cell_type": "code",
      "execution_count": 44,
      "metadata": {
        "colab": {
          "base_uri": "https://localhost:8080/",
          "height": 526
        },
        "id": "c1Nqna6AnO9H",
        "outputId": "b7a7f706-c9be-4249-f87e-98d85135695f"
      },
      "outputs": [
        {
          "ename": "TypeError",
          "evalue": "only integer scalar arrays can be converted to a scalar index",
          "output_type": "error",
          "traceback": [
            "\u001b[0;31m---------------------------------------------------------------------------\u001b[0m",
            "\u001b[0;31mTypeError\u001b[0m                                 Traceback (most recent call last)",
            "\u001b[0;32m<ipython-input-44-16ffd8359506>\u001b[0m in \u001b[0;36m<module>\u001b[0;34m\u001b[0m\n\u001b[1;32m      7\u001b[0m \u001b[0;31m#피부를 인식하여 채도를 높여줌\u001b[0m\u001b[0;34m\u001b[0m\u001b[0;34m\u001b[0m\u001b[0;34m\u001b[0m\u001b[0m\n\u001b[1;32m      8\u001b[0m \u001b[0;31m#for idx in [x for x in index if x not in idx_hair and x not in idx_skin] :\u001b[0m\u001b[0;34m\u001b[0m\u001b[0;34m\u001b[0m\u001b[0;34m\u001b[0m\u001b[0m\n\u001b[0;32m----> 9\u001b[0;31m \u001b[0;32mfor\u001b[0m \u001b[0midx\u001b[0m \u001b[0;32min\u001b[0m \u001b[0mnp\u001b[0m\u001b[0;34m.\u001b[0m\u001b[0many\u001b[0m\u001b[0;34m(\u001b[0m\u001b[0midx_skin\u001b[0m\u001b[0;34m,\u001b[0m\u001b[0midx_hair\u001b[0m\u001b[0;34m)\u001b[0m\u001b[0;34m:\u001b[0m\u001b[0;34m\u001b[0m\u001b[0;34m\u001b[0m\u001b[0m\n\u001b[0m\u001b[1;32m     10\u001b[0m     \u001b[0mimg_hls_face\u001b[0m\u001b[0;34m[\u001b[0m\u001b[0;36m1\u001b[0m\u001b[0;34m,\u001b[0m \u001b[0midx\u001b[0m\u001b[0;34m]\u001b[0m \u001b[0;34m=\u001b[0m \u001b[0mmin\u001b[0m\u001b[0;34m(\u001b[0m\u001b[0mimg_hls_face\u001b[0m\u001b[0;34m[\u001b[0m\u001b[0;36m1\u001b[0m\u001b[0;34m,\u001b[0m \u001b[0midx\u001b[0m\u001b[0;34m]\u001b[0m\u001b[0;34m+\u001b[0m\u001b[0;36m60\u001b[0m\u001b[0;34m,\u001b[0m \u001b[0;36m255\u001b[0m\u001b[0;34m)\u001b[0m\u001b[0;34m\u001b[0m\u001b[0;34m\u001b[0m\u001b[0m\n\u001b[1;32m     11\u001b[0m \u001b[0mprint\u001b[0m\u001b[0;34m(\u001b[0m\u001b[0mimg_hls_face\u001b[0m\u001b[0;34m.\u001b[0m\u001b[0mshape\u001b[0m\u001b[0;34m)\u001b[0m\u001b[0;34m\u001b[0m\u001b[0;34m\u001b[0m\u001b[0m\n",
            "\u001b[0;32m<__array_function__ internals>\u001b[0m in \u001b[0;36many\u001b[0;34m(*args, **kwargs)\u001b[0m\n",
            "\u001b[0;32m/opt/conda/lib/python3.8/site-packages/numpy/core/fromnumeric.py\u001b[0m in \u001b[0;36many\u001b[0;34m(a, axis, out, keepdims)\u001b[0m\n\u001b[1;32m   2328\u001b[0m \u001b[0;34m\u001b[0m\u001b[0m\n\u001b[1;32m   2329\u001b[0m     \"\"\"\n\u001b[0;32m-> 2330\u001b[0;31m     \u001b[0;32mreturn\u001b[0m \u001b[0m_wrapreduction\u001b[0m\u001b[0;34m(\u001b[0m\u001b[0ma\u001b[0m\u001b[0;34m,\u001b[0m \u001b[0mnp\u001b[0m\u001b[0;34m.\u001b[0m\u001b[0mlogical_or\u001b[0m\u001b[0;34m,\u001b[0m \u001b[0;34m'any'\u001b[0m\u001b[0;34m,\u001b[0m \u001b[0maxis\u001b[0m\u001b[0;34m,\u001b[0m \u001b[0;32mNone\u001b[0m\u001b[0;34m,\u001b[0m \u001b[0mout\u001b[0m\u001b[0;34m,\u001b[0m \u001b[0mkeepdims\u001b[0m\u001b[0;34m=\u001b[0m\u001b[0mkeepdims\u001b[0m\u001b[0;34m)\u001b[0m\u001b[0;34m\u001b[0m\u001b[0;34m\u001b[0m\u001b[0m\n\u001b[0m\u001b[1;32m   2331\u001b[0m \u001b[0;34m\u001b[0m\u001b[0m\n\u001b[1;32m   2332\u001b[0m \u001b[0;34m\u001b[0m\u001b[0m\n",
            "\u001b[0;32m/opt/conda/lib/python3.8/site-packages/numpy/core/fromnumeric.py\u001b[0m in \u001b[0;36m_wrapreduction\u001b[0;34m(obj, ufunc, method, axis, dtype, out, **kwargs)\u001b[0m\n\u001b[1;32m     85\u001b[0m                 \u001b[0;32mreturn\u001b[0m \u001b[0mreduction\u001b[0m\u001b[0;34m(\u001b[0m\u001b[0maxis\u001b[0m\u001b[0;34m=\u001b[0m\u001b[0maxis\u001b[0m\u001b[0;34m,\u001b[0m \u001b[0mout\u001b[0m\u001b[0;34m=\u001b[0m\u001b[0mout\u001b[0m\u001b[0;34m,\u001b[0m \u001b[0;34m**\u001b[0m\u001b[0mpasskwargs\u001b[0m\u001b[0;34m)\u001b[0m\u001b[0;34m\u001b[0m\u001b[0;34m\u001b[0m\u001b[0m\n\u001b[1;32m     86\u001b[0m \u001b[0;34m\u001b[0m\u001b[0m\n\u001b[0;32m---> 87\u001b[0;31m     \u001b[0;32mreturn\u001b[0m \u001b[0mufunc\u001b[0m\u001b[0;34m.\u001b[0m\u001b[0mreduce\u001b[0m\u001b[0;34m(\u001b[0m\u001b[0mobj\u001b[0m\u001b[0;34m,\u001b[0m \u001b[0maxis\u001b[0m\u001b[0;34m,\u001b[0m \u001b[0mdtype\u001b[0m\u001b[0;34m,\u001b[0m \u001b[0mout\u001b[0m\u001b[0;34m,\u001b[0m \u001b[0;34m**\u001b[0m\u001b[0mpasskwargs\u001b[0m\u001b[0;34m)\u001b[0m\u001b[0;34m\u001b[0m\u001b[0;34m\u001b[0m\u001b[0m\n\u001b[0m\u001b[1;32m     88\u001b[0m \u001b[0;34m\u001b[0m\u001b[0m\n\u001b[1;32m     89\u001b[0m \u001b[0;34m\u001b[0m\u001b[0m\n",
            "\u001b[0;31mTypeError\u001b[0m: only integer scalar arrays can be converted to a scalar index"
          ]
        }
      ],
      "source": [
        "#np.where는 인자로 넘긴 조건을 만족하는 값의 인덱스를 반환한다. rgb는 인덱스가 3차원이기에 1차원 인덱스만 뽑아주려고 [0]를 뒤에 붙인다. \n",
        "\n",
        "idx_skin = np.where((img_hls_face[0] > 0.6) & (0.4 < img_hls_face[1]) & (img_hls_face[1] < 0.6))[0]\n",
        "idx_hair = np.where((img_hls_face[1] < 0.3) & (img_hls_face[2] < 0.2 ))[0]\n",
        "index = np.arange(512*384)\n",
        "total = np.concatenate((idx_hair,idx_skin))\n",
        "#피부를 인식하여 채도를 높여줌\n",
        "#for idx in [x for x in index if x not in idx_hair and x not in idx_skin] :\n",
        "for idx in total:\n",
        "    img_hls_face[1, idx] = min(img_hls_face[1, idx]+60, 255)\n",
        "print(img_hls_face.shape)\n",
        "#fig, ax = plt.subplots(figsize=(8, 6), constrained_layout=True)\n",
        "#ax.imshow(img_hls_face.reshape(512, 384,3))\n",
        "#ax.set_xticks([])\n",
        "#ax.set_yticks([])\n",
        "img_hls_face = img_hls_face.reshape(3,512,384)\n",
        "transform = transforms.ToPILImage()\n",
        "transform(img_hls_face)"
      ]
    },
    {
      "cell_type": "code",
      "execution_count": null,
      "metadata": {
        "id": "3jY76L-8nfnX"
      },
      "outputs": [],
      "source": []
    }
  ],
  "metadata": {
    "colab": {
      "name": "colorsysEDA.ipynb",
      "provenance": []
    },
    "kernelspec": {
      "display_name": "Python 3",
      "name": "python3"
    },
    "language_info": {
      "codemirror_mode": {
        "name": "ipython",
        "version": 3
      },
      "file_extension": ".py",
      "mimetype": "text/x-python",
      "name": "python",
      "nbconvert_exporter": "python",
      "pygments_lexer": "ipython3",
      "version": "3.8.5"
    }
  },
  "nbformat": 4,
  "nbformat_minor": 0
}

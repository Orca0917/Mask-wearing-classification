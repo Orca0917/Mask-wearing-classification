{
 "cells": [
  {
   "cell_type": "markdown",
   "metadata": {},
   "source": [
    "# 마스크 착용상태 분류 EDA\n",
    "카메라로 촬영한 사람 얼굴 이미지의 마스크 착용 여부를 판단하는 Task\n",
    "\n",
    "### 1. 사용할 패키지 불러오기"
   ]
  },
  {
   "cell_type": "code",
   "execution_count": 3,
   "metadata": {},
   "outputs": [],
   "source": [
    "# !pip install seaborn"
   ]
  },
  {
   "cell_type": "code",
   "execution_count": 4,
   "metadata": {},
   "outputs": [],
   "source": [
    "import numpy as np\n",
    "import pandas as pd\n",
    "import matplotlib.pyplot as plt\n",
    "import seaborn as sns"
   ]
  },
  {
   "cell_type": "markdown",
   "metadata": {},
   "source": [
    "### 2. 학습에 사용되는 데이터 (train.csv) 불러오기"
   ]
  },
  {
   "cell_type": "code",
   "execution_count": 5,
   "metadata": {},
   "outputs": [
    {
     "name": "stdout",
     "output_type": "stream",
     "text": [
      "학습에 사용되는 사람의 수 : 2700\n"
     ]
    },
    {
     "data": {
      "text/html": [
       "<div>\n",
       "<style scoped>\n",
       "    .dataframe tbody tr th:only-of-type {\n",
       "        vertical-align: middle;\n",
       "    }\n",
       "\n",
       "    .dataframe tbody tr th {\n",
       "        vertical-align: top;\n",
       "    }\n",
       "\n",
       "    .dataframe thead th {\n",
       "        text-align: right;\n",
       "    }\n",
       "</style>\n",
       "<table border=\"1\" class=\"dataframe\">\n",
       "  <thead>\n",
       "    <tr style=\"text-align: right;\">\n",
       "      <th></th>\n",
       "      <th>id</th>\n",
       "      <th>gender</th>\n",
       "      <th>race</th>\n",
       "      <th>age</th>\n",
       "      <th>path</th>\n",
       "    </tr>\n",
       "  </thead>\n",
       "  <tbody>\n",
       "    <tr>\n",
       "      <th>106</th>\n",
       "      <td>000280</td>\n",
       "      <td>female</td>\n",
       "      <td>Asian</td>\n",
       "      <td>54</td>\n",
       "      <td>000280_female_Asian_54</td>\n",
       "    </tr>\n",
       "    <tr>\n",
       "      <th>849</th>\n",
       "      <td>001594</td>\n",
       "      <td>male</td>\n",
       "      <td>Asian</td>\n",
       "      <td>58</td>\n",
       "      <td>001594_male_Asian_58</td>\n",
       "    </tr>\n",
       "    <tr>\n",
       "      <th>2301</th>\n",
       "      <td>006136</td>\n",
       "      <td>male</td>\n",
       "      <td>Asian</td>\n",
       "      <td>19</td>\n",
       "      <td>006136_male_Asian_19</td>\n",
       "    </tr>\n",
       "    <tr>\n",
       "      <th>920</th>\n",
       "      <td>001705</td>\n",
       "      <td>male</td>\n",
       "      <td>Asian</td>\n",
       "      <td>37</td>\n",
       "      <td>001705_male_Asian_37</td>\n",
       "    </tr>\n",
       "    <tr>\n",
       "      <th>989</th>\n",
       "      <td>001781</td>\n",
       "      <td>female</td>\n",
       "      <td>Asian</td>\n",
       "      <td>53</td>\n",
       "      <td>001781_female_Asian_53</td>\n",
       "    </tr>\n",
       "  </tbody>\n",
       "</table>\n",
       "</div>"
      ],
      "text/plain": [
       "          id  gender   race  age                    path\n",
       "106   000280  female  Asian   54  000280_female_Asian_54\n",
       "849   001594    male  Asian   58    001594_male_Asian_58\n",
       "2301  006136    male  Asian   19    006136_male_Asian_19\n",
       "920   001705    male  Asian   37    001705_male_Asian_37\n",
       "989   001781  female  Asian   53  001781_female_Asian_53"
      ]
     },
     "execution_count": 5,
     "metadata": {},
     "output_type": "execute_result"
    }
   ],
   "source": [
    "mask_data = pd.read_csv('../input/data/train/train.csv')\n",
    "\n",
    "print ('학습에 사용되는 사람의 수 :', len(mask_data))\n",
    "mask_data.sample(5)"
   ]
  },
  {
   "cell_type": "markdown",
   "metadata": {},
   "source": [
    "### 3. 기본 정보 확인\n",
    "#### 3-1. 결측치 확인"
   ]
  },
  {
   "cell_type": "code",
   "execution_count": 6,
   "metadata": {},
   "outputs": [
    {
     "data": {
      "text/plain": [
       "id        0\n",
       "gender    0\n",
       "race      0\n",
       "age       0\n",
       "path      0\n",
       "dtype: int64"
      ]
     },
     "execution_count": 6,
     "metadata": {},
     "output_type": "execute_result"
    }
   ],
   "source": [
    "mask_data.isnull().sum()"
   ]
  },
  {
   "cell_type": "markdown",
   "metadata": {},
   "source": [
    "- 2700명 중, 결측 데이터는 존재하지 않는다\n",
    "\n",
    "#### 3-2. 입력 이미지 크기 확인"
   ]
  },
  {
   "cell_type": "code",
   "execution_count": null,
   "metadata": {},
   "outputs": [],
   "source": [
    "from PIL import Image\n",
    "img = Image.open(\"../input/data/train/images/000001_female_Asian_45/mask1.jpg\")\n",
    "print ('img size =', img.size)\n",
    "display(img)"
   ]
  },
  {
   "cell_type": "markdown",
   "metadata": {},
   "source": [
    "- 모든 이미지의 크기는 384x512\n",
    "\n",
    "### 4. 데이터의 성별별 분포 확인"
   ]
  },
  {
   "cell_type": "code",
   "execution_count": 8,
   "metadata": {},
   "outputs": [
    {
     "name": "stdout",
     "output_type": "stream",
     "text": [
      "남자 : 1042\n",
      "여자 : 1658\n"
     ]
    },
    {
     "data": {
      "image/png": "[encoded data removed]",
      "text/plain": [
       "<Figure size 432x288 with 1 Axes>"
      ]
     },
     "metadata": {
      "needs_background": "light"
     },
     "output_type": "display_data"
    }
   ],
   "source": [
    "fig, ax = plt.subplots()\n",
    "group = mask_data['gender'].value_counts().sort_index()\n",
    "print ('남자 :', group['male'])\n",
    "print ('여자 :', group['female'])\n",
    "ax.bar(group.index, group, width=0.5, color=['tomato', 'royalblue'])\n",
    "ax.set_facecolor('#DFE3E6')\n",
    "ax.set_title('male / female counts', fontweight='semibold', fontsize=15)\n",
    "plt.show()"
   ]
  },
  {
   "cell_type": "markdown",
   "metadata": {},
   "source": [
    "- 전체 2700명 중 여자는 1658명, 남자는 1042명 존재\n",
    "\n",
    "### 5. 데이터의 나이대별 분포 확인\n",
    "#### 5-1. 분포 확인 (나이 1단위)"
   ]
  },
  {
   "cell_type": "code",
   "execution_count": 9,
   "metadata": {},
   "outputs": [
    {
     "data": {
      "image/png": "[encoded data removed]",
      "text/plain": [
       "<Figure size 1080x504 with 2 Axes>"
      ]
     },
     "metadata": {
      "needs_background": "light"
     },
     "output_type": "display_data"
    }
   ],
   "source": [
    "grp = mask_data.groupby('gender')['age'].value_counts().sort_index()\n",
    "fig, axes = plt.subplots(1, 2, figsize=(15, 7), sharey=True)\n",
    "axes[0].bar(grp['male'].index, grp['male'], color='royalblue', zorder=5)\n",
    "axes[1].bar(grp['female'].index, grp['female'], color='tomato', zorder=5)\n",
    "\n",
    "axes[0].set_title('age distribution : male', fontweight='semibold')\n",
    "axes[1].set_title('age distribution : female', fontweight='semibold')\n",
    "\n",
    "for ax in axes:\n",
    "    ax.set_facecolor('#DFE3E6')\n",
    "    ax.set_xlabel('age')\n",
    "    for s in ['top', 'right']:\n",
    "        ax.spines[s].set_visible(False)"
   ]
  },
  {
   "cell_type": "markdown",
   "metadata": {},
   "source": [
    "#### 5-2. 분포 확인 (나이 10 단위)"
   ]
  },
  {
   "cell_type": "code",
   "execution_count": 10,
   "metadata": {},
   "outputs": [
    {
     "data": {
      "image/png": "[encoded data removed]",
      "text/plain": [
       "<Figure size 1080x504 with 2 Axes>"
      ]
     },
     "metadata": {
      "needs_background": "light"
     },
     "output_type": "display_data"
    }
   ],
   "source": [
    "bins = list(range(0, 91, 10))\n",
    "bins_label = [str(x) + \"-\" + str(x+10) for x in bins]\n",
    "mask_data['age_level'] = pd.cut(mask_data['age'] ,bins, right=False, labels=bins_label[:-1])\n",
    "\n",
    "# 데이터 분포 표시\n",
    "grp = mask_data.groupby('gender')['age_level'].value_counts().sort_index()\n",
    "fig, axes = plt.subplots(1, 2, figsize=(15, 7))\n",
    "axes[0].bar(grp['male'].index, grp['male'], color='royalblue', zorder=5)\n",
    "axes[1].bar(grp['female'].index, grp['female'], color='tomato', zorder=5)\n",
    "\n",
    "# 제목 설정\n",
    "axes[0].set_title('age distribution : male', fontweight='semibold')\n",
    "axes[1].set_title('age distribution : female', fontweight='semibold')\n",
    "\n",
    "# 배경설정, xlaebl설정, 축제거\n",
    "for ax in axes:\n",
    "    ax.set_facecolor('#DFE3E6')\n",
    "    ax.set_xlabel('age')\n",
    "    ax.set_ylim(0, 650)\n",
    "    for s in ['top', 'right']:\n",
    "        ax.spines[s].set_visible(False)\n",
    "\n",
    "# bar별 개수 표시\n",
    "for idx, value in zip(grp['male'].index, grp['male']):\n",
    "    axes[0].text(idx, value+5, s=value, ha='center', fontweight='bold', zorder=5)\n",
    "    \n",
    "for idx, value in zip(grp['female'].index, grp['female']):\n",
    "    axes[1].text(idx, value+5, s=value, ha='center', fontweight='bold', zorder=5)"
   ]
  },
  {
   "cell_type": "markdown",
   "metadata": {},
   "source": [
    "#### 5-3. 분포 확인 (나이 30 단위)"
   ]
  },
  {
   "cell_type": "code",
   "execution_count": 11,
   "metadata": {},
   "outputs": [
    {
     "data": {
      "image/png": "[encoded data removed]",
      "text/plain": [
       "<Figure size 1080x504 with 2 Axes>"
      ]
     },
     "metadata": {
      "needs_background": "light"
     },
     "output_type": "display_data"
    }
   ],
   "source": [
    "bins = list(range(0, 91, 30))\n",
    "bins_label = [str(x) + \"-\" + str(x+30) for x in bins]\n",
    "mask_data['age_level'] = pd.cut(mask_data['age'] ,bins, right=False, labels=bins_label[:-1])\n",
    "\n",
    "# 데이터 분포 표시\n",
    "grp = mask_data.groupby('gender')['age_level'].value_counts().sort_index()\n",
    "fig, axes = plt.subplots(1, 2, figsize=(15, 7))\n",
    "axes[0].bar(grp['male'].index, grp['male'], color='royalblue', zorder=5)\n",
    "axes[1].bar(grp['female'].index, grp['female'], color='tomato', zorder=5)\n",
    "\n",
    "# 제목 설정\n",
    "axes[0].set_title('age distribution : male', fontweight='semibold')\n",
    "axes[1].set_title('age distribution : female', fontweight='semibold')\n",
    "\n",
    "# 배경설정, xlaebl설정, 축제거\n",
    "for ax in axes:\n",
    "    ax.set_facecolor('#DFE3E6')\n",
    "    ax.set_xlabel('age')\n",
    "    ax.set_ylim(0, 850)\n",
    "    for s in ['top', 'right']:\n",
    "        ax.spines[s].set_visible(False)\n",
    "\n",
    "# bar별 개수 표시\n",
    "for idx, value in zip(grp['male'].index, grp['male']):\n",
    "    axes[0].text(idx, value+5, s=value, ha='center', fontweight='bold', zorder=5)\n",
    "    \n",
    "for idx, value in zip(grp['female'].index, grp['female']):\n",
    "    axes[1].text(idx, value+5, s=value, ha='center', fontweight='bold', zorder=5)"
   ]
  }
 ],
 "metadata": {
  "interpreter": {
   "hash": "ca3761090cfbe63144ea01940ad3aff3e9fb5d022652c61fa17801c40c0600dc"
  },
  "kernelspec": {
   "display_name": "Python 3.8.10 ('data_visualization')",
   "language": "python",
   "name": "python3"
  },
  "language_info": {
   "codemirror_mode": {
    "name": "ipython",
    "version": 3
   },
   "file_extension": ".py",
   "mimetype": "text/x-python",
   "name": "python",
   "nbconvert_exporter": "python",
   "pygments_lexer": "ipython3",
   "version": "3.8.5"
  },
  "orig_nbformat": 4
 },
 "nbformat": 4,
 "nbformat_minor": 2
}

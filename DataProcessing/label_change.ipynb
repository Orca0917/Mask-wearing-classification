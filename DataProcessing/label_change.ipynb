{
 "cells": [
  {
   "cell_type": "code",
   "execution_count": 1,
   "id": "3861be11-9ecf-4ac1-9a1f-87f50c37ece5",
   "metadata": {},
   "outputs": [],
   "source": [
    "import os\n",
    "import pandas as pd\n",
    "import shutil\n",
    "\n",
    "TRAIN_CSV_PATH = r\"/opt/ml/input/data/train/train.csv\"\n",
    "IMAGE_PATH = r'/opt/ml/input/data/train/images'"
   ]
  },
  {
   "cell_type": "code",
   "execution_count": 2,
   "id": "4d76bd4f",
   "metadata": {},
   "outputs": [],
   "source": [
    "fromlabel = [\n",
    "\"000225_female_Asian_25\",\n",
    "\"000664_female_Asian_55\",\n",
    "\"000767_female_Asian_56\",\n",
    "\"001009_female_Asian_40\",\n",
    "\"001064_female_Asian_44\",\n",
    "\"001498-1_male_Asian_23\",\n",
    "\"001509_female_Asian_60\",\n",
    "\"001637_female_Asian_34\",\n",
    "\"001666_female_Asian_45\",\n",
    "\"001852_male_Asian_48\",\n",
    "\"003113_female_Asian_20\",\n",
    "\"003223_female_Asian_18\",\n",
    "\"004281_female_Asian_60\",\n",
    "\"004348_male_Asian_59\",\n",
    "\"004432_male_Asian_43\",\n",
    "\"005223_male_Asian_22\",\n",
    "\"006359_female_Asian_18\",\n",
    "\"006360_female_Asian_18\",\n",
    "\"006361_female_Asian_18\",\n",
    "\"006362_female_Asian_18\",\n",
    "\"006363_female_Asian_18\",\n",
    "\"006364_female_Asian_18\",\n",
    "\"006424_female_Asian_18\",\n",
    "\"000667_female_Asian_57\",\n",
    "\"000725_female_Asian_50\",\n",
    "\"000736_female_Asian_53\",\n",
    "\"000817_female_Asian_52\",\n",
    "\"003780_female_Asian_48\",\n",
    "\"006504_female_Asian_20\",\n",
    "]\n",
    "\n",
    "toLabel = [\n",
    "\"000225_male_Asian_25\",\n",
    "\"000664_male_Asian_55\",\n",
    "\"000767_male_Asian_56\",\n",
    "\"001009_female_Asian_29\",\n",
    "\"001064_female_Asian_29\",\n",
    "\"001498-1_female_Asian_23\",\n",
    "\"001509_male_Asian_60\",\n",
    "\"001637_female_Asian_29\",\n",
    "\"001666_female_Asian_29\",\n",
    "\"001852_male_Asian_29\",\n",
    "\"003113_male_Asian_20\",\n",
    "\"003223_male_Asian_18\",\n",
    "\"004281_male_Asian_60\",\n",
    "\"004348_male_Asian_60\",\n",
    "\"004432_female_Asian_43\",\n",
    "\"005223_female_Asian_22\",\n",
    "\"006359_male_Asian_18\",\n",
    "\"006360_male_Asian_18\",\n",
    "\"006361_male_Asian_18\",\n",
    "\"006362_male_Asian_18\",\n",
    "\"006363_male_Asian_18\",\n",
    "\"006364_male_Asian_18\",\n",
    "\"006424_male_Asian_18\",\n",
    "\"000667_male_Asian_57\",\n",
    "\"000725_male_Asian_50\",\n",
    "\"000736_male_Asian_53\",\n",
    "\"000817_male_Asian_52\",\n",
    "\"003780_male_Asian_48\",\n",
    "\"006504_male_Asian_20\",]"
   ]
  },
  {
   "cell_type": "code",
   "execution_count": null,
   "id": "b2b5d47b",
   "metadata": {},
   "outputs": [],
   "source": []
  },
  {
   "cell_type": "code",
   "execution_count": 3,
   "id": "afbd954c",
   "metadata": {},
   "outputs": [
    {
     "name": "stdout",
     "output_type": "stream",
     "text": [
      "file label changed : 000225_female_Asian_25 -> 000225_male_Asian_25\n",
      "file label changed : 000664_female_Asian_55 -> 000664_male_Asian_55\n",
      "file label changed : 000767_female_Asian_56 -> 000767_male_Asian_56\n",
      "file label changed : 001009_female_Asian_40 -> 001009_female_Asian_29\n",
      "file label changed : 001064_female_Asian_44 -> 001064_female_Asian_29\n",
      "file label changed : 001498-1_male_Asian_23 -> 001498-1_female_Asian_23\n",
      "file label changed : 001509_female_Asian_60 -> 001509_male_Asian_60\n",
      "file label changed : 001637_female_Asian_34 -> 001637_female_Asian_29\n",
      "file label changed : 001666_female_Asian_45 -> 001666_female_Asian_29\n",
      "file label changed : 001852_male_Asian_48 -> 001852_male_Asian_29\n",
      "file label changed : 003113_female_Asian_20 -> 003113_male_Asian_20\n",
      "file label changed : 003223_female_Asian_18 -> 003223_male_Asian_18\n",
      "file label changed : 004281_female_Asian_60 -> 004281_male_Asian_60\n",
      "file label changed : 004348_male_Asian_59 -> 004348_male_Asian_60\n",
      "file label changed : 004432_male_Asian_43 -> 004432_female_Asian_43\n",
      "file label changed : 005223_male_Asian_22 -> 005223_female_Asian_22\n",
      "file label changed : 006359_female_Asian_18 -> 006359_male_Asian_18\n",
      "file label changed : 006360_female_Asian_18 -> 006360_male_Asian_18\n",
      "file label changed : 006361_female_Asian_18 -> 006361_male_Asian_18\n",
      "file label changed : 006362_female_Asian_18 -> 006362_male_Asian_18\n",
      "file label changed : 006363_female_Asian_18 -> 006363_male_Asian_18\n",
      "file label changed : 006364_female_Asian_18 -> 006364_male_Asian_18\n",
      "file label changed : 006424_female_Asian_18 -> 006424_male_Asian_18\n",
      "file label changed : 000667_female_Asian_57 -> 000667_male_Asian_57\n",
      "file label changed : 000725_female_Asian_50 -> 000725_male_Asian_50\n",
      "file label changed : 000736_female_Asian_53 -> 000736_male_Asian_53\n",
      "file label changed : 000817_female_Asian_52 -> 000817_male_Asian_52\n",
      "file label changed : 003780_female_Asian_48 -> 003780_male_Asian_48\n",
      "file label changed : 006504_female_Asian_20 -> 006504_male_Asian_20\n"
     ]
    }
   ],
   "source": [
    "for i in range(0,len(fromlabel)):\n",
    "    fromPath = os.path.join(IMAGE_PATH, fromlabel[i])\n",
    "    toPath = os.path.join(IMAGE_PATH,toLabel[i])\n",
    "    \n",
    "    try : \n",
    "        shutil.move(fromPath,toPath)\n",
    "        print(f\"file label changed : {fromlabel[i]} -> {toLabel[i]}\" )\n",
    "    except FileNotFoundError:\n",
    "        continue"
   ]
  },
  {
   "cell_type": "code",
   "execution_count": 4,
   "id": "86a03fb2",
   "metadata": {},
   "outputs": [],
   "source": [
    "fromImage = [\n",
    "            \"000020_female_Asian_50/normal.jpg\",\n",
    "            #\"004418_male_Asian_20/normal.jpg\",\n",
    "            \"005227_male_Asian_22/normal.jpg\",\n",
    "            ]\n",
    "\n",
    "toImage = [\n",
    "            \"000020_female_Asian_50/incorrect_mask.jpg\",\n",
    "            #\"004418_male_Asian_20/incorrect_mask.jpg\",\n",
    "            \"005227_male_Asian_22/incorrect_mask.jpg\",\n",
    "]"
   ]
  },
  {
   "cell_type": "code",
   "execution_count": null,
   "id": "4f0fa153",
   "metadata": {},
   "outputs": [],
   "source": []
  },
  {
   "cell_type": "code",
   "execution_count": 5,
   "id": "94d0d28c",
   "metadata": {},
   "outputs": [],
   "source": [
    "tempPath = os.path.join(IMAGE_PATH,\"temp.jpg\")\n",
    "#os.mknod(tempfile)\n",
    "with open(tempPath, 'w'):\n",
    "    pass"
   ]
  },
  {
   "cell_type": "code",
   "execution_count": 6,
   "id": "6a0a5176",
   "metadata": {},
   "outputs": [
    {
     "ename": "FileNotFoundError",
     "evalue": "[Errno 2] No such file or directory: '/opt/ml/input/data/train/images/temp.jpg'",
     "output_type": "error",
     "traceback": [
      "\u001b[0;31m---------------------------------------------------------------------------\u001b[0m",
      "\u001b[0;31mFileNotFoundError\u001b[0m                         Traceback (most recent call last)",
      "\u001b[0;32m<ipython-input-6-e441cabe4df3>\u001b[0m in \u001b[0;36m<module>\u001b[0;34m\u001b[0m\n\u001b[1;32m      9\u001b[0m \u001b[0;34m\u001b[0m\u001b[0m\n\u001b[1;32m     10\u001b[0m     \u001b[0;31m#remove temp\u001b[0m\u001b[0;34m\u001b[0m\u001b[0;34m\u001b[0m\u001b[0;34m\u001b[0m\u001b[0m\n\u001b[0;32m---> 11\u001b[0;31m \u001b[0mshutil\u001b[0m\u001b[0;34m.\u001b[0m\u001b[0mrmtree\u001b[0m\u001b[0;34m(\u001b[0m\u001b[0mtempPath\u001b[0m\u001b[0;34m)\u001b[0m\u001b[0;34m\u001b[0m\u001b[0;34m\u001b[0m\u001b[0m\n\u001b[0m",
      "\u001b[0;32m/opt/conda/lib/python3.8/shutil.py\u001b[0m in \u001b[0;36mrmtree\u001b[0;34m(path, ignore_errors, onerror)\u001b[0m\n\u001b[1;32m    704\u001b[0m             \u001b[0morig_st\u001b[0m \u001b[0;34m=\u001b[0m \u001b[0mos\u001b[0m\u001b[0;34m.\u001b[0m\u001b[0mlstat\u001b[0m\u001b[0;34m(\u001b[0m\u001b[0mpath\u001b[0m\u001b[0;34m)\u001b[0m\u001b[0;34m\u001b[0m\u001b[0;34m\u001b[0m\u001b[0m\n\u001b[1;32m    705\u001b[0m         \u001b[0;32mexcept\u001b[0m \u001b[0mException\u001b[0m\u001b[0;34m:\u001b[0m\u001b[0;34m\u001b[0m\u001b[0;34m\u001b[0m\u001b[0m\n\u001b[0;32m--> 706\u001b[0;31m             \u001b[0monerror\u001b[0m\u001b[0;34m(\u001b[0m\u001b[0mos\u001b[0m\u001b[0;34m.\u001b[0m\u001b[0mlstat\u001b[0m\u001b[0;34m,\u001b[0m \u001b[0mpath\u001b[0m\u001b[0;34m,\u001b[0m \u001b[0msys\u001b[0m\u001b[0;34m.\u001b[0m\u001b[0mexc_info\u001b[0m\u001b[0;34m(\u001b[0m\u001b[0;34m)\u001b[0m\u001b[0;34m)\u001b[0m\u001b[0;34m\u001b[0m\u001b[0;34m\u001b[0m\u001b[0m\n\u001b[0m\u001b[1;32m    707\u001b[0m             \u001b[0;32mreturn\u001b[0m\u001b[0;34m\u001b[0m\u001b[0;34m\u001b[0m\u001b[0m\n\u001b[1;32m    708\u001b[0m         \u001b[0;32mtry\u001b[0m\u001b[0;34m:\u001b[0m\u001b[0;34m\u001b[0m\u001b[0;34m\u001b[0m\u001b[0m\n",
      "\u001b[0;32m/opt/conda/lib/python3.8/shutil.py\u001b[0m in \u001b[0;36mrmtree\u001b[0;34m(path, ignore_errors, onerror)\u001b[0m\n\u001b[1;32m    702\u001b[0m         \u001b[0;31m# lstat()/open()/fstat() trick.\u001b[0m\u001b[0;34m\u001b[0m\u001b[0;34m\u001b[0m\u001b[0;34m\u001b[0m\u001b[0m\n\u001b[1;32m    703\u001b[0m         \u001b[0;32mtry\u001b[0m\u001b[0;34m:\u001b[0m\u001b[0;34m\u001b[0m\u001b[0;34m\u001b[0m\u001b[0m\n\u001b[0;32m--> 704\u001b[0;31m             \u001b[0morig_st\u001b[0m \u001b[0;34m=\u001b[0m \u001b[0mos\u001b[0m\u001b[0;34m.\u001b[0m\u001b[0mlstat\u001b[0m\u001b[0;34m(\u001b[0m\u001b[0mpath\u001b[0m\u001b[0;34m)\u001b[0m\u001b[0;34m\u001b[0m\u001b[0;34m\u001b[0m\u001b[0m\n\u001b[0m\u001b[1;32m    705\u001b[0m         \u001b[0;32mexcept\u001b[0m \u001b[0mException\u001b[0m\u001b[0;34m:\u001b[0m\u001b[0;34m\u001b[0m\u001b[0;34m\u001b[0m\u001b[0m\n\u001b[1;32m    706\u001b[0m             \u001b[0monerror\u001b[0m\u001b[0;34m(\u001b[0m\u001b[0mos\u001b[0m\u001b[0;34m.\u001b[0m\u001b[0mlstat\u001b[0m\u001b[0;34m,\u001b[0m \u001b[0mpath\u001b[0m\u001b[0;34m,\u001b[0m \u001b[0msys\u001b[0m\u001b[0;34m.\u001b[0m\u001b[0mexc_info\u001b[0m\u001b[0;34m(\u001b[0m\u001b[0;34m)\u001b[0m\u001b[0;34m)\u001b[0m\u001b[0;34m\u001b[0m\u001b[0;34m\u001b[0m\u001b[0m\n",
      "\u001b[0;31mFileNotFoundError\u001b[0m: [Errno 2] No such file or directory: '/opt/ml/input/data/train/images/temp.jpg'"
     ]
    }
   ],
   "source": [
    "for i in range(0, len(fromImage)):\n",
    "    fromPath = os.path.join(IMAGE_PATH, fromImage[i])\n",
    "    toPath = os.path.join(IMAGE_PATH,toImage[i])\n",
    "\n",
    "    #swap path\n",
    "    shutil.move(fromPath,tempPath)\n",
    "    shutil.copyfile(toPath,fromPath)\n",
    "    shutil.move(tempPath, toPath)\n",
    "\n",
    "    #remove temp\n",
    "shutil.rmtree(tempPath)"
   ]
  },
  {
   "cell_type": "code",
   "execution_count": null,
   "id": "4cd701db",
   "metadata": {},
   "outputs": [],
   "source": []
  }
 ],
 "metadata": {
  "kernelspec": {
   "display_name": "Python 3 (ipykernel)",
   "language": "python",
   "name": "python3"
  },
  "language_info": {
   "codemirror_mode": {
    "name": "ipython",
    "version": 3
   },
   "file_extension": ".py",
   "mimetype": "text/x-python",
   "name": "python",
   "nbconvert_exporter": "python",
   "pygments_lexer": "ipython3",
   "version": "3.8.5"
  }
 },
 "nbformat": 4,
 "nbformat_minor": 5
}

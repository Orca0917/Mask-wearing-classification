{
 "cells": [
  {
   "cell_type": "code",
   "execution_count": 6,
   "id": "8633f3da-4708-4c47-8477-78afdcc87eec",
   "metadata": {},
   "outputs": [],
   "source": [
    "import sys\n",
    "import os\n",
    "import glob\n",
    "import shutil\n",
    "from os import walk"
   ]
  },
  {
   "cell_type": "code",
   "execution_count": 2,
   "id": "8dabf22b-3ff6-48a5-bc2a-e292badb2b9a",
   "metadata": {},
   "outputs": [],
   "source": [
    "#server default train files directory\n",
    "train_dir = r\"/opt/ml/input/data/train/images/\"\n",
    "\n",
    "#preprocessd_dir\n",
    "preprocessed_dir = r\"/opt/ml/input/data/train/processed_train_images/\"\n",
    "\n",
    "#label mapping dictionary\n",
    "nameLabel: dict = {\n",
    "    \"incorrect_mask\" : \"_1\",\n",
    "    \"mask1\" : \"_2\",\n",
    "    \"mask2\" : \"_3\",\n",
    "    \"mask3\" : \"_4\",\n",
    "    \"mask4\" : \"_5\",\n",
    "    \"mask5\" : \"_6\",\n",
    "    \"normal\" : \"_7\",\n",
    "}\n"
   ]
  },
  {
   "cell_type": "code",
   "execution_count": 3,
   "id": "c6484d22-92d0-4438-b52a-bf6fafbc1587",
   "metadata": {},
   "outputs": [],
   "source": [
    "def getId(path: str) -> str:\n",
    "    '''\n",
    "    directory string에서 id 값을 반환합니다\n",
    "    :param path: id 값을 찾을 디렉토리 문자열\n",
    "    :return id: id 값\n",
    "    '''\n",
    "    tokens = path.split(\"/\")\n",
    "    tokens.reverse()\n",
    "    \n",
    "    temp = tokens[0].split(\"_\")\n",
    "    id = temp[0]\n",
    "    return id\n",
    "    \n",
    "def getFileName(path: str) -> str:\n",
    "    '''\n",
    "    directory string에서 파일의 이름(name)을 반환합니다\n",
    "    \n",
    "    :param path: name을 찾을 디렉토리 문자열\n",
    "    :return name: 디렉토리에서 파일의 이름\n",
    "    '''\n",
    "    tokens = path.split(\"/\")\n",
    "    tokens.reverse()\n",
    "    \n",
    "    temp = tokens[0].split(\".\") #filename.jpg\n",
    "    name = temp[0]\n",
    "    \n",
    "    return name\n",
    "\n",
    "def moveAndRenameFile(train_dir: str = train_dir, preprocessed_dir: str = preprocessed_dir):\n",
    "    '''\n",
    "    train_dir의 이미지 파일들을 preprocessed_dir의 경로로 이동 후 이름을 변경합니다.\n",
    "    :param train_dir : image 파일의 루트 경로\n",
    "    :param preprocessed_dir : 이동시키고자 하고자 하는 경로\n",
    "    '''\n",
    "    #create folder\n",
    "    try:\n",
    "        if not os.path.exists(preprocessed_dir):\n",
    "            os.makedirs(preprocessed_dir)\n",
    "    except OSErrpr:\n",
    "        print(\"Error: creating directory\" + preprocessed_dir)\n",
    "    \n",
    "    train_dir_list = glob.glob(train_dir + r\"*\", recursive =True)\n",
    "\n",
    "    for dir in train_dir_list:\n",
    "        id = getId(dir) # 000001\n",
    "\n",
    "        image_list = glob.glob(dir + r\"/*\")\n",
    "\n",
    "        for image in image_list:\n",
    "\n",
    "            name = getFileName(image) # mask1\n",
    "            oldfilename = name + \".jpg\" # mask1.jpg\n",
    "\n",
    "            #move file to preprocessed directory\n",
    "            oldfile = image                           #/opt/ml/input/data/train/images/{foldername}/mask1.jpg\n",
    "            movefile = preprocessed_dir + oldfilename #/opt/ml/input/data/train/processed_train_images/mask1.jpg\n",
    "            shutil.copyfile(oldfile, movefile) # move file\n",
    "\n",
    "            #change name to new format(\"{processed_dir}/id_{label}\")\n",
    "            newfile = preprocessed_dir + id + nameLabel[name] + \".jpg\" # /opt/ml/input/data/train/processed_train_images/id_{lable}.jpg\n",
    "\n",
    "            os.rename(movefile, newfile)\n",
    "    \n",
    "    print(\"Move files and rename is Done\")\n",
    "    print(\"From : \" + train_dir)\n",
    "    print(\"To : \" + preprocessed_dir)\n",
    "    print(f\"preprocessed files : {files}\")"
   ]
  },
  {
   "cell_type": "code",
   "execution_count": 7,
   "id": "1d8b3a02-07ec-4d2b-b837-d54ce9e2f55c",
   "metadata": {},
   "outputs": [
    {
     "name": "stdout",
     "output_type": "stream",
     "text": [
      "Move and remane is Done\n",
      "From :-f\n",
      "To : /opt/ml/.local/share/jupyter/runtime/kernel-903fed43-76cf-4187-bde4-b4827cc38c71.json\n"
     ]
    }
   ],
   "source": [
    "moveAndRenameFile()"
   ]
  },
  {
   "cell_type": "code",
   "execution_count": null,
   "id": "0eb161ab-8e1b-4fd6-8fc9-e04dd0772896",
   "metadata": {},
   "outputs": [],
   "source": []
  }
 ],
 "metadata": {
  "kernelspec": {
   "display_name": "Python 3 (ipykernel)",
   "language": "python",
   "name": "python3"
  },
  "language_info": {
   "codemirror_mode": {
    "name": "ipython",
    "version": 3
   },
   "file_extension": ".py",
   "mimetype": "text/x-python",
   "name": "python",
   "nbconvert_exporter": "python",
   "pygments_lexer": "ipython3",
   "version": "3.8.5"
  }
 },
 "nbformat": 4,
 "nbformat_minor": 5
}

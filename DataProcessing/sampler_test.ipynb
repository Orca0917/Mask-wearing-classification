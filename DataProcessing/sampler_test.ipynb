{
 "cells": [
  {
   "cell_type": "code",
   "execution_count": 128,
   "id": "e34e8218-8f2c-4401-93f1-d8643a902fba",
   "metadata": {},
   "outputs": [],
   "source": [
    "from dataset import MaskSplitByProfileDataset, CustomAugmentation\n",
    "from torch.utils.data import DataLoader\n",
    "import numpy as np"
   ]
  },
  {
   "cell_type": "code",
   "execution_count": 11,
   "id": "7b31175c-5812-475b-85a1-26f6a23e0fb3",
   "metadata": {},
   "outputs": [],
   "source": [
    "data_dir = \"/opt/ml/input/data/train/images\""
   ]
  },
  {
   "cell_type": "code",
   "execution_count": 12,
   "id": "684962bb-ffcc-4589-94d0-cfdafb0704e3",
   "metadata": {},
   "outputs": [],
   "source": [
    "data = MaskSplitByProfileDataset(data_dir = data_dir)"
   ]
  },
  {
   "cell_type": "code",
   "execution_count": 13,
   "id": "6bee43fc-6b7e-41fc-9826-4e6f46856dc9",
   "metadata": {},
   "outputs": [],
   "source": [
    "data.get_sampler(\"train\")\n",
    "data.set_transform(CustomAugmentation(resize = (224,224), mean=(0.548, 0.504, 0.479), std=(0.237, 0.247, 0.246)))"
   ]
  },
  {
   "cell_type": "markdown",
   "id": "b057777b-53d2-437f-a572-b6fbe015a5bb",
   "metadata": {
    "tags": []
   },
   "source": [
    "## WeightedRandomSampler 를 사용하여 샘플링 할 경우"
   ]
  },
  {
   "cell_type": "code",
   "execution_count": 103,
   "id": "4791bdff-cc67-4674-b2ad-014acd48cd60",
   "metadata": {},
   "outputs": [],
   "source": [
    "#Loader 정의 train sampler \n",
    "train_loader = DataLoader(\n",
    "    data,\n",
    "    64, # batch size\n",
    "    num_workers=0,\n",
    "    shuffle=False,\n",
    "    drop_last=True,\n",
    "    sampler = data.get_sampler(\"train\") # WeightedRandomSampler\n",
    "    )"
   ]
  },
  {
   "cell_type": "code",
   "execution_count": 130,
   "id": "232642aa-ba11-47b7-b844-3b3531aca2b3",
   "metadata": {},
   "outputs": [],
   "source": [
    "label_count = [0 for i in range(0,18)]\n",
    "for _, label in train_loader:\n",
    "    label = np.array(label)\n",
    "    for i in label:\n",
    "        label_count[i] += 1"
   ]
  },
  {
   "cell_type": "markdown",
   "id": "f9fbdd48-2d02-40c3-a9bf-22236e81065a",
   "metadata": {},
   "source": [
    "**WeightedRandomSampler를 사용할 경우 거의 모든 라벨이 비슷하게 샘플링 됨**"
   ]
  },
  {
   "cell_type": "code",
   "execution_count": 132,
   "id": "b668a777-2013-43c8-a3d4-b454eca53782",
   "metadata": {},
   "outputs": [
    {
     "name": "stdout",
     "output_type": "stream",
     "text": [
      "[806, 839, 882, 917, 839, 783, 851, 861, 851, 888, 891, 901, 847, 878, 875, 871, 844, 874]\n"
     ]
    }
   ],
   "source": [
    "print(label_count)"
   ]
  },
  {
   "cell_type": "markdown",
   "id": "063892c2-a271-470e-9453-ce1f0521bef8",
   "metadata": {},
   "source": [
    "## 일반 shuffle 샘플러를 사용할 경우"
   ]
  },
  {
   "cell_type": "code",
   "execution_count": 134,
   "id": "4c15be0c-9d6a-4ab0-b15c-480f48602488",
   "metadata": {},
   "outputs": [],
   "source": [
    "#Loader 정의 shuffle 사용\n",
    "train_loader = DataLoader(\n",
    "    data,\n",
    "    64, # batch size\n",
    "    num_workers=0,\n",
    "    shuffle=True,\n",
    "    drop_last=True,\n",
    "    #sampler = data.get_sampler(\"train\")\n",
    "    )\n",
    "\n",
    "label_count = [0 for i in range(0,18)]\n",
    "for _, label in train_loader:\n",
    "    label = np.array(label)\n",
    "    for i in label:\n",
    "        label_count[i] += 1"
   ]
  },
  {
   "cell_type": "markdown",
   "id": "6d34f2c8-d6a2-42a8-b74d-742ae7172dc5",
   "metadata": {},
   "source": [
    "**일반 shuffle을 사용할 경우 데이터의 수에 따라 샘플링되는 갯수가 달라짐**"
   ]
  },
  {
   "cell_type": "code",
   "execution_count": 135,
   "id": "93f61e06-51ed-4031-bc63-523873171138",
   "metadata": {},
   "outputs": [
    {
     "name": "stdout",
     "output_type": "stream",
     "text": [
      "[5585, 4137, 858, 7261, 8061, 1070, 1116, 826, 172, 1454, 1613, 214, 1117, 826, 172, 1453, 1611, 214]\n"
     ]
    }
   ],
   "source": [
    "print(label_count)"
   ]
  },
  {
   "cell_type": "code",
   "execution_count": null,
   "id": "0c089f8e-ae25-4f60-a20c-4b4c2721047e",
   "metadata": {},
   "outputs": [],
   "source": []
  }
 ],
 "metadata": {
  "kernelspec": {
   "display_name": "Python 3 (ipykernel)",
   "language": "python",
   "name": "python3"
  },
  "language_info": {
   "codemirror_mode": {
    "name": "ipython",
    "version": 3
   },
   "file_extension": ".py",
   "mimetype": "text/x-python",
   "name": "python",
   "nbconvert_exporter": "python",
   "pygments_lexer": "ipython3",
   "version": "3.8.5"
  }
 },
 "nbformat": 4,
 "nbformat_minor": 5
}
